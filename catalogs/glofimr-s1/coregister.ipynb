{
 "cells": [
  {
   "cell_type": "code",
   "execution_count": 1,
   "metadata": {},
   "outputs": [],
   "source": [
    "import rasterio"
   ]
  },
  {
   "cell_type": "code",
   "execution_count": 2,
   "metadata": {},
   "outputs": [],
   "source": [
    "ds_hand = rasterio.open(\"./data/080102hand.tif\")"
   ]
  },
  {
   "cell_type": "code",
   "execution_count": 3,
   "metadata": {},
   "outputs": [
    {
     "data": {
      "text/plain": [
       "CRS.from_epsg(4269)"
      ]
     },
     "execution_count": 3,
     "metadata": {},
     "output_type": "execute_result"
    }
   ],
   "source": [
    "ds_hand.crs"
   ]
  },
  {
   "cell_type": "code",
   "execution_count": 4,
   "metadata": {},
   "outputs": [],
   "source": [
    "ds_sar = rasterio.open(\"./data/16SCF_0_4-MASK.tiff\")"
   ]
  },
  {
   "cell_type": "code",
   "execution_count": 5,
   "metadata": {},
   "outputs": [
    {
     "data": {
      "text/plain": [
       "CRS.from_epsg(32616)"
      ]
     },
     "execution_count": 5,
     "metadata": {},
     "output_type": "execute_result"
    }
   ],
   "source": [
    "ds_sar.crs"
   ]
  },
  {
   "cell_type": "code",
   "execution_count": 6,
   "metadata": {},
   "outputs": [
    {
     "data": {
      "text/plain": [
       "(2004, 2004)"
      ]
     },
     "execution_count": 6,
     "metadata": {},
     "output_type": "execute_result"
    }
   ],
   "source": [
    "ds_sar.shape"
   ]
  },
  {
   "cell_type": "code",
   "execution_count": 7,
   "metadata": {},
   "outputs": [],
   "source": [
    "from rasterio.enums import Resampling\n",
    "from rasterio.vrt import WarpedVRT\n",
    "\n",
    "vrt = WarpedVRT(ds_hand, crs=ds_sar.crs, resampling=Resampling.bilinear)"
   ]
  },
  {
   "cell_type": "code",
   "execution_count": 8,
   "metadata": {},
   "outputs": [],
   "source": [
    "source_window = rasterio.windows.from_bounds(*ds_sar.bounds, transform=vrt.transform).round_offsets()\n",
    "target_window = rasterio.windows.Window(source_window.col_off, source_window.row_off, ds_sar.width, ds_sar.height)\n",
    "data = vrt.read(1, window=target_window)"
   ]
  },
  {
   "cell_type": "code",
   "execution_count": 9,
   "metadata": {},
   "outputs": [
    {
     "data": {
      "text/plain": [
       "(2004, 2004)"
      ]
     },
     "execution_count": 9,
     "metadata": {},
     "output_type": "execute_result"
    }
   ],
   "source": [
    "data.shape"
   ]
  },
  {
   "cell_type": "code",
   "execution_count": 10,
   "metadata": {},
   "outputs": [
    {
     "data": {
      "text/plain": [
       "array([[ 6.31660469,  5.96711612,  5.58032625, ..., 13.40665376,\n",
       "        13.50962887, 13.62637697],\n",
       "       [ 6.19250942,  5.87042185,  5.4508645 , ..., 13.26148488,\n",
       "        13.34436455, 13.45968823],\n",
       "       [ 6.74726091,  6.41029673,  5.99744877, ..., 12.68845637,\n",
       "        12.84526903, 13.17922707],\n",
       "       ...,\n",
       "       [12.89218721, 13.23017384, 13.34177359, ...,  5.36011372,\n",
       "         4.70496055,  3.90625704],\n",
       "       [12.67636839, 13.06880402, 13.31755496, ...,  5.13609158,\n",
       "         4.43340149,  3.73841828],\n",
       "       [12.11516606, 12.67585582, 13.16802635, ...,  5.03621488,\n",
       "         4.29526243,  3.47407371]])"
      ]
     },
     "execution_count": 10,
     "metadata": {},
     "output_type": "execute_result"
    }
   ],
   "source": [
    "data"
   ]
  },
  {
   "cell_type": "code",
   "execution_count": 11,
   "metadata": {},
   "outputs": [],
   "source": [
    "dst = rasterio.open(\"./data/output.tif\", \"w\", \n",
    "                    driver=\"GTiff\", \n",
    "                    width=data.shape[1], \n",
    "                    height=data.shape[0], \n",
    "                    count=1, \n",
    "                    crs=vrt.crs, \n",
    "                    transform=ds_sar.transform, \n",
    "                    dtype=data.dtype)\n",
    "dst.write(data, indexes=1)"
   ]
  },
  {
   "cell_type": "code",
   "execution_count": null,
   "metadata": {},
   "outputs": [],
   "source": []
  },
  {
   "cell_type": "code",
   "execution_count": null,
   "metadata": {},
   "outputs": [],
   "source": []
  }
 ],
 "metadata": {
  "kernelspec": {
   "display_name": "Python 3",
   "language": "python",
   "name": "python3"
  },
  "language_info": {
   "codemirror_mode": {
    "name": "ipython",
    "version": 3
   },
   "file_extension": ".py",
   "mimetype": "text/x-python",
   "name": "python",
   "nbconvert_exporter": "python",
   "pygments_lexer": "ipython3",
   "version": "3.7.8"
  }
 },
 "nbformat": 4,
 "nbformat_minor": 4
}
